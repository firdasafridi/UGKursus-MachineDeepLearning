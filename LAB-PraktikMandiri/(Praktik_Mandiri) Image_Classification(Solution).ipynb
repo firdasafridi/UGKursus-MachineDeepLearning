{
 "cells": [
  {
   "cell_type": "markdown",
   "metadata": {},
   "source": [
    "# Implementasi CNN untuk Image Classification menggunakan CIFAR-10\n",
    "\n",
    "Outline dari notebook ini dijabarkan sebagai berikut:\n",
    "\n",
    "1. **Pendahuluan**  \n",
    "  \n",
    "2. **Data pre-processing**  \n",
    "     2.1. Ekstraksi Dataset\n",
    "     2.2. Memeriksa Bentuk dan Tipe Data\n",
    "     2.3. Visualisasi\n",
    "     2.4. Normalisasi\n",
    "     2.5. One-Hot Encoding  \n",
    "     2.6. Memisahkan Data Training dan Data Validation      \n",
    "      \n",
    "3. **Convolutional Neural Network**  \n",
    "    3.1. Pendahuluan tentang CNN  \n",
    "    3.2. Membangun Arsitektur CNN dengan Keras  \n",
    "    3.3. Konfigurasi Kompilasi Model CNN  \n",
    "    3.4. Fitting Model CNN  \n",
    "\n",
    "4. **Analisis Hasil**  \n",
    "    4.1. Melakukan Visualisasi / Plotting Loss dan Accuracy  \n",
    "    4.2. Melakukan Visualisasi / Plotting Confusion Matrix  \n",
    "    4.4. Melakukan Visualisasi / Plotting Error  \n",
    "  \n",
    "5. **Prediksi Data Test dan Penyimpanan**  \n",
    "    5.1. Prediksi Data  \n",
    "    5.2. Menyimpan Hasil Prediksi dan Model CNN  "
   ]
  },
  {
   "cell_type": "markdown",
   "metadata": {},
   "source": [
    "<hr>\n",
    "# 1. Pendahuluan\n",
    "\n",
    "__CIFAR 10-Dataset__ merupakan sebuah dataset besar yang umumnya digunakan untuk melakukan training dan testing untuk bidang ilmu *Machine Learning*. Dataset CIFAR-10 terdiri dari 60.000 gambar berwarna (RGB) berukuran 32x32 untuk 10 kelas objek, 6.000 gambar untuk setiap kelas.\n",
    "\n",
    "<p>\n",
    "    <img src=\"cifar10_example.png\" > </img>\n",
    "</p>\n",
    "<p>\n",
    "    <center><em>Gambar 1. CIFAR-10 Dataset</em></center>\n",
    "</p>\n",
    "\n",
    "Pembagian label untuk dataset CIFAR-10 adalah sebagai berikut:\n",
    "\n",
    "0 : airplane <br>\n",
    "1 : automobile <br>\n",
    "2 : bird <br>\n",
    "3 : cat <br>\n",
    "4 : deer <br>\n",
    "5 : dog  <br>\n",
    "6 : frog  <br>\n",
    "7 : horse  <br>\n",
    "8 : ship  <br>\n",
    "9 : truck  <br>"
   ]
  },
  {
   "cell_type": "markdown",
   "metadata": {},
   "source": [
    "<hr>\n",
    "# 2. Data Pre-Processing\n",
    "\n",
    "Berikut adalah beberapa library yang digunakan untuk melakukan klasifikasi gambar pada notebook ini.\n"
   ]
  },
  {
   "cell_type": "code",
   "execution_count": 1,
   "metadata": {
    "collapsed": false,
    "scrolled": true
   },
   "outputs": [
    {
     "name": "stderr",
     "output_type": "stream",
     "text": [
      "Using TensorFlow backend.\n"
     ]
    }
   ],
   "source": [
    "from __future__ import print_function\n",
    "\n",
    "import numpy as np\n",
    "\n",
    "from keras.callbacks import EarlyStopping\n",
    "from keras.models import Sequential\n",
    "from keras.layers.core import Dense, Dropout, Flatten\n",
    "from keras.layers.convolutional import Conv2D\n",
    "from keras.optimizers import Adam\n",
    "from keras.layers.pooling import MaxPooling2D\n",
    "from keras.utils import to_categorical\n",
    "from keras.layers.normalization import BatchNormalization\n"
   ]
  },
  {
   "cell_type": "markdown",
   "metadata": {},
   "source": [
    "Dataset yang digunakan kali ini berupa dataset CIFAR-10 yang sudah disediakan oleh library keras, sehingga dataset ini dapat langsung digunakan tanpa harus mengunduh data originalnya. \n",
    "\n",
    "Data original CIFAR-10 dapat diunduh di situs resmi: https://www.cs.toronto.edu/~kriz/cifar.html"
   ]
  },
  {
   "cell_type": "code",
   "execution_count": 2,
   "metadata": {
    "collapsed": false
   },
   "outputs": [],
   "source": [
    "from keras.datasets import cifar10"
   ]
  },
  {
   "cell_type": "markdown",
   "metadata": {},
   "source": [
    "### Ekstraksi Dataset"
   ]
  },
  {
   "cell_type": "markdown",
   "metadata": {},
   "source": [
    "Dataset CIFAR-10 yang didapatkan langsung dari library ini memiliki struktur:\n",
    "\n",
    "    {(X_train, Y_train), (X_test, Y_test)}\n",
    "    \n",
    "dimana :\n",
    "\n",
    "X_train adalah data gambar sebagai input untuk proses training\n",
    "\n",
    "Y_train adalah label data untuk proses training\n",
    "\n",
    "X_test adalah data gambar sebagai input untuk proses testing\n",
    "\n",
    "Y_train adalah label data untuk proses testing"
   ]
  },
  {
   "cell_type": "code",
   "execution_count": 3,
   "metadata": {
    "collapsed": false
   },
   "outputs": [],
   "source": [
    "# Load the dataset\n",
    "(X_train, Y_train), (X_test, Y_test) = cifar10.load_data()\n"
   ]
  },
  {
   "cell_type": "markdown",
   "metadata": {},
   "source": [
    "### Memeriksa Tipe Data"
   ]
  },
  {
   "cell_type": "code",
   "execution_count": 4,
   "metadata": {
    "collapsed": false
   },
   "outputs": [
    {
     "name": "stdout",
     "output_type": "stream",
     "text": [
      "Tipe data variable train : <class 'numpy.ndarray'>\n",
      "Tipe data variable test  : <class 'numpy.ndarray'>\n"
     ]
    }
   ],
   "source": [
    "# Lengkapi kode program\n",
    "\n",
    "# memeriksa tipe data\n",
    "print('Tipe data variable train :', type(X_train))\n",
    "print('Tipe data variable test  :', type(X_test))"
   ]
  },
  {
   "cell_type": "markdown",
   "metadata": {},
   "source": [
    "### Memeriksa Bentuk Data"
   ]
  },
  {
   "cell_type": "code",
   "execution_count": 5,
   "metadata": {
    "collapsed": false
   },
   "outputs": [
    {
     "name": "stdout",
     "output_type": "stream",
     "text": [
      "Shape dari variable train :  (50000, 32, 32, 3)\n",
      "Shape dari variable test  :  (10000, 32, 32, 3)\n",
      "\n",
      "Jumlah training data :  50000 pasang gambar dan untuk seluruh class/label\n",
      "Jumlah test data     :  10000 gambar\n",
      "(20000, 32, 32, 3)\n",
      "(10000, 32, 32, 3)\n",
      "(10000, 1)\n",
      "(20000, 1)\n"
     ]
    }
   ],
   "source": [
    "# Lengkapi kode program\n",
    "\n",
    "# memeriksa bentuk data\n",
    "print('Shape dari variable train : ', X_train.shape)\n",
    "print('Shape dari variable test  : ', X_test.shape)\n",
    "\n",
    "# memeriksa jumlah data\n",
    "num_train = len(X_train) \n",
    "num_test = len(X_test) \n",
    "print('\\nJumlah training data : ', num_train, 'pasang gambar dan untuk seluruh class/label')\n",
    "print('Jumlah test data     : ', num_test, 'gambar')\n",
    "\n",
    "X_train = X_train[:20000]\n",
    "X_test = X_test[:20000]\n",
    "Y_train = Y_train[:20000]\n",
    "Y_test = Y_test[:20000]\n",
    "\n",
    "print(X_train.shape)\n",
    "print(X_test.shape)\n",
    "print(Y_test.shape)\n",
    "print(Y_train.shape)"
   ]
  },
  {
   "cell_type": "markdown",
   "metadata": {},
   "source": [
    "Dataset dibagi menjadi 50.000 data (5.000 data untuk setiap kelas) untuk training dan validasi, 10.000 data untuk testing."
   ]
  },
  {
   "cell_type": "code",
   "execution_count": 6,
   "metadata": {
    "collapsed": false
   },
   "outputs": [
    {
     "data": {
      "text/plain": [
       "array([[[ 59,  62,  63],\n",
       "        [ 43,  46,  45],\n",
       "        [ 50,  48,  43],\n",
       "        ..., \n",
       "        [158, 132, 108],\n",
       "        [152, 125, 102],\n",
       "        [148, 124, 103]],\n",
       "\n",
       "       [[ 16,  20,  20],\n",
       "        [  0,   0,   0],\n",
       "        [ 18,   8,   0],\n",
       "        ..., \n",
       "        [123,  88,  55],\n",
       "        [119,  83,  50],\n",
       "        [122,  87,  57]],\n",
       "\n",
       "       [[ 25,  24,  21],\n",
       "        [ 16,   7,   0],\n",
       "        [ 49,  27,   8],\n",
       "        ..., \n",
       "        [118,  84,  50],\n",
       "        [120,  84,  50],\n",
       "        [109,  73,  42]],\n",
       "\n",
       "       ..., \n",
       "       [[208, 170,  96],\n",
       "        [201, 153,  34],\n",
       "        [198, 161,  26],\n",
       "        ..., \n",
       "        [160, 133,  70],\n",
       "        [ 56,  31,   7],\n",
       "        [ 53,  34,  20]],\n",
       "\n",
       "       [[180, 139,  96],\n",
       "        [173, 123,  42],\n",
       "        [186, 144,  30],\n",
       "        ..., \n",
       "        [184, 148,  94],\n",
       "        [ 97,  62,  34],\n",
       "        [ 83,  53,  34]],\n",
       "\n",
       "       [[177, 144, 116],\n",
       "        [168, 129,  94],\n",
       "        [179, 142,  87],\n",
       "        ..., \n",
       "        [216, 184, 140],\n",
       "        [151, 118,  84],\n",
       "        [123,  92,  72]]], dtype=uint8)"
      ]
     },
     "execution_count": 6,
     "metadata": {},
     "output_type": "execute_result"
    }
   ],
   "source": [
    "# Lengkapi kode program\n",
    "\n",
    "# menampilkan data training pertama\n",
    "X_train[0]"
   ]
  },
  {
   "cell_type": "markdown",
   "metadata": {},
   "source": [
    "### Visualisasi"
   ]
  },
  {
   "cell_type": "code",
   "execution_count": 7,
   "metadata": {
    "collapsed": false
   },
   "outputs": [
    {
     "data": {
      "image/png": "[encoded data removed]",
      "text/plain": [
       "<Figure size 432x288 with 1 Axes>"
      ]
     },
     "metadata": {},
     "output_type": "display_data"
    }
   ],
   "source": [
    "# Lengkapi kode program \n",
    "\n",
    "# menampilkan gambar data training ke-lima\n",
    "from matplotlib import pyplot as plt\n",
    "\n",
    "%matplotlib inline\n",
    "\n",
    "plt.imshow(X_train[5])\n",
    "plt.show()\n"
   ]
  },
  {
   "cell_type": "markdown",
   "metadata": {},
   "source": [
    "### Normalisasi"
   ]
  },
  {
   "cell_type": "code",
   "execution_count": 8,
   "metadata": {
    "collapsed": false
   },
   "outputs": [
    {
     "name": "stdout",
     "output_type": "stream",
     "text": [
      "[[[ 0.23137255  0.24313725  0.24705882]\n",
      "  [ 0.16862745  0.18039216  0.17647059]\n",
      "  [ 0.19607843  0.18823529  0.16862745]\n",
      "  ..., \n",
      "  [ 0.61960784  0.51764706  0.42352941]\n",
      "  [ 0.59607843  0.49019608  0.4       ]\n",
      "  [ 0.58039216  0.48627451  0.40392157]]\n",
      "\n",
      " [[ 0.0627451   0.07843137  0.07843137]\n",
      "  [ 0.          0.          0.        ]\n",
      "  [ 0.07058824  0.03137255  0.        ]\n",
      "  ..., \n",
      "  [ 0.48235294  0.34509804  0.21568627]\n",
      "  [ 0.46666667  0.3254902   0.19607843]\n",
      "  [ 0.47843137  0.34117647  0.22352941]]\n",
      "\n",
      " [[ 0.09803922  0.09411765  0.08235294]\n",
      "  [ 0.0627451   0.02745098  0.        ]\n",
      "  [ 0.19215686  0.10588235  0.03137255]\n",
      "  ..., \n",
      "  [ 0.4627451   0.32941176  0.19607843]\n",
      "  [ 0.47058824  0.32941176  0.19607843]\n",
      "  [ 0.42745098  0.28627451  0.16470588]]\n",
      "\n",
      " ..., \n",
      " [[ 0.81568627  0.66666667  0.37647059]\n",
      "  [ 0.78823529  0.6         0.13333333]\n",
      "  [ 0.77647059  0.63137255  0.10196078]\n",
      "  ..., \n",
      "  [ 0.62745098  0.52156863  0.2745098 ]\n",
      "  [ 0.21960784  0.12156863  0.02745098]\n",
      "  [ 0.20784314  0.13333333  0.07843137]]\n",
      "\n",
      " [[ 0.70588235  0.54509804  0.37647059]\n",
      "  [ 0.67843137  0.48235294  0.16470588]\n",
      "  [ 0.72941176  0.56470588  0.11764706]\n",
      "  ..., \n",
      "  [ 0.72156863  0.58039216  0.36862745]\n",
      "  [ 0.38039216  0.24313725  0.13333333]\n",
      "  [ 0.3254902   0.20784314  0.13333333]]\n",
      "\n",
      " [[ 0.69411765  0.56470588  0.45490196]\n",
      "  [ 0.65882353  0.50588235  0.36862745]\n",
      "  [ 0.70196078  0.55686275  0.34117647]\n",
      "  ..., \n",
      "  [ 0.84705882  0.72156863  0.54901961]\n",
      "  [ 0.59215686  0.4627451   0.32941176]\n",
      "  [ 0.48235294  0.36078431  0.28235294]]]\n"
     ]
    }
   ],
   "source": [
    "# Lengkapi kode program\n",
    "\n",
    "# melakukan normalisasi pada training data dan testing data\n",
    "x_train_norm = X_train/255.0\n",
    "x_test_norm = X_test/255.0\n",
    "\n",
    "# menampilkan data training pertama (yang sudah dinormalisasi)\n",
    "print(x_train_norm[0])"
   ]
  },
  {
   "cell_type": "markdown",
   "metadata": {},
   "source": [
    "### One Hot Encoding"
   ]
  },
  {
   "cell_type": "markdown",
   "metadata": {},
   "source": [
    "\n",
    "<p>\n",
    "    <img src=\"one_hot.png\" > </img>\n",
    "</p>\n",
    "<p>\n",
    "    <center><em>Gambar 2. One Hot Encoding untuk CIFAR-10 Dataset</em></center>\n",
    "</p>\n"
   ]
  },
  {
   "cell_type": "markdown",
   "metadata": {},
   "source": [
    "### Memisahkan Data Training dan Validasi"
   ]
  },
  {
   "cell_type": "code",
   "execution_count": 9,
   "metadata": {
    "collapsed": false
   },
   "outputs": [
    {
     "name": "stderr",
     "output_type": "stream",
     "text": [
      "/home/anneke/anaconda3/lib/python3.5/site-packages/sklearn/utils/fixes.py:313: FutureWarning: numpy not_equal will not check object identity in the future. The comparison did not return the same result as suggested by the identity (`is`)) and will change.\n",
      "  _nan_object_mask = _nan_object_array != _nan_object_array\n"
     ]
    },
    {
     "name": "stdout",
     "output_type": "stream",
     "text": [
      "Bentuk xtrain sekarang :  (18000, 32, 32, 3)\n",
      "Bentuk ytrain sekarang :  (18000, 1)\n",
      "\n",
      "Bentuk xval sekarang   :  (2000, 32, 32, 3)\n",
      "Bentuk yval sekarang   :  (2000, 1)\n"
     ]
    }
   ],
   "source": [
    "# kita gunakan class train_test_split untuk melakukan pembagian secara otomatis\n",
    "from sklearn.model_selection import train_test_split\n",
    "\n",
    "# kita buat class untuk melakukan random\n",
    "seed = 2\n",
    "np.random.seed(seed)\n",
    "\n",
    "# kita pisahkan sebagian xtrain dan ytrain untuk xval dan yval\n",
    "xtrain, xval, ytrain, yval = train_test_split(x_train_norm, Y_train,      #input xtrain dan ytrain kita\n",
    "                                              test_size=0.1,       #presentase porsi untuk xval dan yval\n",
    "                                              random_state=seed,   #gunakan class random kita agar train_test_split dapat secara random melakukan pemisahan xval dan yval\n",
    "                                              shuffle=True,        #shuffle data sebelum melakukan pemisahan\n",
    "                                             )\n",
    "\n",
    "print('Bentuk xtrain sekarang : ', xtrain.shape)\n",
    "print('Bentuk ytrain sekarang : ', ytrain.shape)\n",
    "print('\\nBentuk xval sekarang   : ', xval.shape)\n",
    "print('Bentuk yval sekarang   : ', yval.shape)\n",
    "\n",
    "# mengganti tipe label\n",
    "ytrain = to_categorical(ytrain)\n",
    "yval = to_categorical(yval)"
   ]
  },
  {
   "cell_type": "markdown",
   "metadata": {},
   "source": [
    "<hr>\n",
    "# 3. CNN Model\n",
    "\n",
    "Proses selanjutnya adalah membuat model CNN untuk klasifikasi gambar objek. Arsitektur CNN yang akan dibuat pada program ini menggunakan arsitektur seperti yang terlihat di bawah ini: \n",
    "    \n",
    "<p>\n",
    "    <img src=\"cnn_arch.png\" > </img>\n",
    "</p>\n",
    "<p>\n",
    "    <center><em>Gambar 3. Arsitektur CNN</em></center>\n",
    "</p>\n",
    "\n",
    "sumber: https://towardsdatascience.com/cifar-10-image-classification-in-tensorflow-5b501f7dc77c\n"
   ]
  },
  {
   "cell_type": "markdown",
   "metadata": {},
   "source": [
    "Arsitektur CNN:\n",
    "\n",
    "* Convolution dengan 64 filters ukuran (3x3), padding=same, strides=1\n",
    "\n",
    "\n",
    "* Max Pooling dengan ukuran 2 (strides=2)\n",
    "    - ReLU activation function\n",
    "    - Batch Normalization\n",
    "\n",
    "\n",
    "* Convolution dengan 128 filters ukuran (3x3), padding=same, strides=1\n",
    "\n",
    "\n",
    "* Max Pooling dengan ukuran 2 (strides=2)\n",
    "    - ReLU activation function\n",
    "    - Batch Normalization\n",
    "\n",
    "\n",
    "* Convolution dengan 256 filters ukuran (5x5), padding=same, strides=1\n",
    "\n",
    "\n",
    "* Max Pooling dengan ukuran 2 (strides=2)\n",
    "    - ReLU activation function\n",
    "    - Batch Normalization\n",
    "\n",
    "\n",
    "* Convolution dengan 512 filters ukuran (5x5), padding=same, strides=1\n",
    "\n",
    "\n",
    "* Max Pooling dengan ukuran 2 (strides=2)\n",
    "    - ReLU activation function\n",
    "    - Batch Normalization\n",
    "\n",
    "\n",
    "* Flattening the 3-D output\n",
    "\n",
    "\n",
    "* Fully Connected Layer dengan 128 unit\n",
    "    - Dropout\n",
    "    - Batch Normalization\n",
    "\n",
    "\n",
    "* Fully Connected Layer dengan 256 units\n",
    "    - Dropout\n",
    "    - Batch Normalization\n",
    "\n",
    "\n",
    "* Fully Connected Layer dengan 512 units\n",
    "    - Dropout\n",
    "    - Batch Normalization\n",
    "\n",
    "\n",
    "* Fully Connected Layer dengan 1024 units\n",
    "    - Dropout\n",
    "    - Batch Normalization\n",
    "\n",
    "\n",
    "* Fully Connected Layer dengan 10 unit (jumlah kelas)"
   ]
  },
  {
   "cell_type": "code",
   "execution_count": 10,
   "metadata": {
    "collapsed": false
   },
   "outputs": [],
   "source": [
    "# Lengkapi kode program\n",
    "\n",
    "# model\n",
    "model = Sequential()\n",
    "\n",
    "# membuat arsitektur cnn\n",
    "model.add(Conv2D(64, kernel_size=(3, 3), activation='relu', padding='same', strides=(1,1), input_shape=(32, 32, 3)))\n",
    "model.add(MaxPooling2D(pool_size=(2, 2), strides=(2,2)))\n",
    "model.add(BatchNormalization())\n",
    "\n",
    "model.add(Conv2D(128, kernel_size=(3, 3), padding='same', strides=(1,1), activation='relu'))\n",
    "model.add(MaxPooling2D(pool_size=(2, 2), strides=(2,2)))\n",
    "model.add(BatchNormalization())\n",
    "\n",
    "model.add(Conv2D(256, kernel_size=(5, 5), activation='relu', padding='same', strides=(1,1)))\n",
    "model.add(MaxPooling2D(pool_size=(2, 2), strides=(2,2)))\n",
    "model.add(BatchNormalization())\n",
    "\n",
    "model.add(Conv2D(512, kernel_size=(5, 5), activation='relu', padding='same', strides=(1,1)))\n",
    "model.add(MaxPooling2D(pool_size=(2, 2), strides=(2,2)))\n",
    "model.add(BatchNormalization())\n",
    "\n",
    "model.add(Flatten())\n",
    "\n",
    "model.add(Dense(128, activation='relu'))\n",
    "model.add(Dropout(0.7))\n",
    "model.add(BatchNormalization())\n",
    "\n",
    "model.add(Dense(256, activation='relu'))\n",
    "model.add(Dropout(0.7))\n",
    "model.add(BatchNormalization())\n",
    "\n",
    "model.add(Dense(512, activation='relu'))\n",
    "model.add(Dropout(0.7))\n",
    "model.add(BatchNormalization())\n",
    "\n",
    "model.add(Dense(1024, activation='relu'))\n",
    "model.add(Dropout(0.7))\n",
    "model.add(BatchNormalization())\n",
    "\n",
    "model.add(Dense(10, activation='softmax'))\n"
   ]
  },
  {
   "cell_type": "code",
   "execution_count": 11,
   "metadata": {
    "collapsed": false
   },
   "outputs": [
    {
     "name": "stdout",
     "output_type": "stream",
     "text": [
      "_________________________________________________________________\n",
      "Layer (type)                 Output Shape              Param #   \n",
      "=================================================================\n",
      "conv2d_1 (Conv2D)            (None, 32, 32, 64)        1792      \n",
      "_________________________________________________________________\n",
      "max_pooling2d_1 (MaxPooling2 (None, 16, 16, 64)        0         \n",
      "_________________________________________________________________\n",
      "batch_normalization_1 (Batch (None, 16, 16, 64)        256       \n",
      "_________________________________________________________________\n",
      "conv2d_2 (Conv2D)            (None, 16, 16, 128)       73856     \n",
      "_________________________________________________________________\n",
      "max_pooling2d_2 (MaxPooling2 (None, 8, 8, 128)         0         \n",
      "_________________________________________________________________\n",
      "batch_normalization_2 (Batch (None, 8, 8, 128)         512       \n",
      "_________________________________________________________________\n",
      "conv2d_3 (Conv2D)            (None, 8, 8, 256)         819456    \n",
      "_________________________________________________________________\n",
      "max_pooling2d_3 (MaxPooling2 (None, 4, 4, 256)         0         \n",
      "_________________________________________________________________\n",
      "batch_normalization_3 (Batch (None, 4, 4, 256)         1024      \n",
      "_________________________________________________________________\n",
      "conv2d_4 (Conv2D)            (None, 4, 4, 512)         3277312   \n",
      "_________________________________________________________________\n",
      "max_pooling2d_4 (MaxPooling2 (None, 2, 2, 512)         0         \n",
      "_________________________________________________________________\n",
      "batch_normalization_4 (Batch (None, 2, 2, 512)         2048      \n",
      "_________________________________________________________________\n",
      "flatten_1 (Flatten)          (None, 2048)              0         \n",
      "_________________________________________________________________\n",
      "dense_1 (Dense)              (None, 128)               262272    \n",
      "_________________________________________________________________\n",
      "dropout_1 (Dropout)          (None, 128)               0         \n",
      "_________________________________________________________________\n",
      "batch_normalization_5 (Batch (None, 128)               512       \n",
      "_________________________________________________________________\n",
      "dense_2 (Dense)              (None, 256)               33024     \n",
      "_________________________________________________________________\n",
      "dropout_2 (Dropout)          (None, 256)               0         \n",
      "_________________________________________________________________\n",
      "batch_normalization_6 (Batch (None, 256)               1024      \n",
      "_________________________________________________________________\n",
      "dense_3 (Dense)              (None, 512)               131584    \n",
      "_________________________________________________________________\n",
      "dropout_3 (Dropout)          (None, 512)               0         \n",
      "_________________________________________________________________\n",
      "batch_normalization_7 (Batch (None, 512)               2048      \n",
      "_________________________________________________________________\n",
      "dense_4 (Dense)              (None, 1024)              525312    \n",
      "_________________________________________________________________\n",
      "dropout_4 (Dropout)          (None, 1024)              0         \n",
      "_________________________________________________________________\n",
      "batch_normalization_8 (Batch (None, 1024)              4096      \n",
      "_________________________________________________________________\n",
      "dense_5 (Dense)              (None, 10)                10250     \n",
      "=================================================================\n",
      "Total params: 5,146,378\n",
      "Trainable params: 5,140,618\n",
      "Non-trainable params: 5,760\n",
      "_________________________________________________________________\n"
     ]
    }
   ],
   "source": [
    "# Lengkapi kode program\n",
    "\n",
    "# menampilkan model summary\n",
    "model.summary()"
   ]
  },
  {
   "cell_type": "markdown",
   "metadata": {},
   "source": [
    "### Menentukan Konfigurasi Kompilasi CNN "
   ]
  },
  {
   "cell_type": "code",
   "execution_count": 12,
   "metadata": {
    "collapsed": true
   },
   "outputs": [],
   "source": [
    "# Lengkapi kode program\n",
    "\n",
    "# Kompilasi model\n",
    "#    loss = categorical_crossentropy\n",
    "#    optimizer = adam\n",
    "#    learning rate = 0.001\n",
    "#    metrics = accuracy\n",
    "model.compile(loss='categorical_crossentropy',\n",
    "              optimizer=Adam(lr=0.001),\n",
    "              metrics=['accuracy'])\n"
   ]
  },
  {
   "cell_type": "markdown",
   "metadata": {},
   "source": [
    "### Model Fitting"
   ]
  },
  {
   "cell_type": "code",
   "execution_count": 13,
   "metadata": {
    "collapsed": false
   },
   "outputs": [
    {
     "name": "stdout",
     "output_type": "stream",
     "text": [
      "Train on 18000 samples, validate on 2000 samples\n",
      "Epoch 1/3\n",
      "18000/18000 [==============================] - 701s - loss: 2.6867 - acc: 0.1412 - val_loss: 2.7738 - val_acc: 0.1305\n",
      "Epoch 2/3\n",
      "18000/18000 [==============================] - 732s - loss: 2.1027 - acc: 0.2326 - val_loss: 3.2688 - val_acc: 0.1135\n",
      "Epoch 3/3\n",
      "18000/18000 [==============================] - 733s - loss: 1.8354 - acc: 0.2962 - val_loss: 4.9021 - val_acc: 0.1185\n"
     ]
    }
   ],
   "source": [
    "# Lengkapi kode program\n",
    "\n",
    "# Fitting model\n",
    "#   batch_size = 128\n",
    "#   epoch = 3\n",
    "#   verbose = 1\n",
    "\n",
    "history = model.fit(\n",
    "    xtrain, ytrain,   #kita inputkan data training kita kedalam CNN\n",
    "    batch_size=128,   #tetapkan 128 untuk mengambil 128 sample dalam sekali training dalam satu epoch\n",
    "    epochs=3,         #jumlah epoch, semakin besar semakin bagus namun semakin besar juga kemungkinan overfitting\n",
    "    verbose=1,        #tetapkan nilai verbosity mode = 1 agar CNN memberikan keterangan yang berarti untuk kita\n",
    "    validation_data=(xval, yval),    #kita inputkan data validasi agar kita dapat memantau apakah CNN kita mengalami overfitting\n",
    ")"
   ]
  },
  {
   "cell_type": "markdown",
   "metadata": {},
   "source": [
    "### Analisa Hasil"
   ]
  },
  {
   "cell_type": "code",
   "execution_count": 14,
   "metadata": {
    "collapsed": false
   },
   "outputs": [
    {
     "name": "stdout",
     "output_type": "stream",
     "text": [
      "[2.68672485754225, 2.1027110854254829, 1.8354335523181491]\n"
     ]
    }
   ],
   "source": [
    "print(history.history['loss'])"
   ]
  },
  {
   "cell_type": "code",
   "execution_count": 15,
   "metadata": {
    "collapsed": false
   },
   "outputs": [
    {
     "data": {
      "image/png": "[encoded data removed]",
      "text/plain": [
       "<Figure size 432x288 with 2 Axes>"
      ]
     },
     "metadata": {},
     "output_type": "display_data"
    }
   ],
   "source": [
    "# Lengkapi kode program\n",
    "\n",
    "#plot perbandingan training loss dan validation loss\n",
    "fig, ax = plt.subplots(2,1)\n",
    "ax[0].plot(history.history['loss'], color='b', label=\"Training loss\")\n",
    "ax[0].plot(history.history['val_loss'], color='r', label=\"Validation loss\",axes =ax[0])\n",
    "ax[0].grid(color='black', linestyle='-', linewidth=0.25)\n",
    "legend = ax[0].legend(loc='best', shadow=True)\n",
    "\n",
    "\n",
    "\n",
    "#plot perbandingan training acc dan validation acc\n",
    "ax[1].plot(history.history['acc'], color='b', label=\"Training accuracy\")\n",
    "ax[1].plot(history.history['val_acc'], color='r',label=\"Validation accuracy\")\n",
    "ax[1].grid(color='black', linestyle='-', linewidth=0.25)\n",
    "legend = ax[1].legend(loc='best', shadow=True)"
   ]
  },
  {
   "cell_type": "markdown",
   "metadata": {},
   "source": [
    "### Prediksi"
   ]
  },
  {
   "cell_type": "code",
   "execution_count": 16,
   "metadata": {
    "collapsed": false
   },
   "outputs": [
    {
     "name": "stdout",
     "output_type": "stream",
     "text": [
      "10000/10000 [==============================] - 113s   \n"
     ]
    }
   ],
   "source": [
    "# Lengkapi kode program\n",
    "predictions = model.predict_classes(x_test_norm, verbose=1)"
   ]
  },
  {
   "cell_type": "code",
   "execution_count": 17,
   "metadata": {
    "collapsed": false
   },
   "outputs": [
    {
     "name": "stdout",
     "output_type": "stream",
     "text": [
      "Tipe data predictions :  <class 'numpy.ndarray'>\n",
      "Isi data predictions  :  [6 2 4 ..., 6 6 6]\n"
     ]
    }
   ],
   "source": [
    "# cetak informasi variable prediksi\n",
    "print('Tipe data predictions : ', type(predictions))\n",
    "print('Isi data predictions  : ', predictions)"
   ]
  },
  {
   "cell_type": "code",
   "execution_count": 18,
   "metadata": {
    "collapsed": false
   },
   "outputs": [
    {
     "name": "stdout",
     "output_type": "stream",
     "text": [
      "(10000,)\n",
      "(10000,)\n"
     ]
    }
   ],
   "source": [
    "# menampilkan shape dari hasil prediksi\n",
    "print(predictions.shape)\n",
    "\n",
    "# menyamakan dimensi antara hasil prediksi dengan label ground-truth (Y_test)\n",
    "Y_test=np.reshape(Y_test, [-1])\n",
    "\n",
    "# menampilkan shape hasil prediksi\n",
    "print(Y_test.shape)"
   ]
  },
  {
   "cell_type": "code",
   "execution_count": 19,
   "metadata": {
    "collapsed": true
   },
   "outputs": [],
   "source": [
    "# menghitung error\n",
    "error = (predictions - Y_test != 0)"
   ]
  },
  {
   "cell_type": "code",
   "execution_count": 20,
   "metadata": {
    "collapsed": false
   },
   "outputs": [
    {
     "name": "stdout",
     "output_type": "stream",
     "text": [
      "[ True  True  True ...,  True  True  True]\n"
     ]
    }
   ],
   "source": [
    "# menampilkan kesalahan prediksi\n",
    "print(error)"
   ]
  },
  {
   "cell_type": "code",
   "execution_count": 21,
   "metadata": {
    "collapsed": false
   },
   "outputs": [
    {
     "name": "stdout",
     "output_type": "stream",
     "text": [
      "0.8914\n"
     ]
    }
   ],
   "source": [
    "# menghitung jumlah kesalaha prediksi\n",
    "np.count_nonzero(error)\n",
    "\n",
    "# menghitung tingkat akurasi\n",
    "acc = np.count_nonzero(error)/len(error)\n",
    "\n",
    "# menampilkan tingkat akurasi\n",
    "print(acc)"
   ]
  },
  {
   "cell_type": "code",
   "execution_count": null,
   "metadata": {
    "collapsed": true
   },
   "outputs": [],
   "source": []
  }
 ],
 "metadata": {
  "anaconda-cloud": {},
  "kernelspec": {
   "display_name": "Python [conda env:anaconda3]",
   "language": "python",
   "name": "conda-env-anaconda3-py"
  },
  "language_info": {
   "codemirror_mode": {
    "name": "ipython",
    "version": 3
   },
   "file_extension": ".py",
   "mimetype": "text/x-python",
   "name": "python",
   "nbconvert_exporter": "python",
   "pygments_lexer": "ipython3",
   "version": "3.5.6"
  }
 },
 "nbformat": 4,
 "nbformat_minor": 1
}
