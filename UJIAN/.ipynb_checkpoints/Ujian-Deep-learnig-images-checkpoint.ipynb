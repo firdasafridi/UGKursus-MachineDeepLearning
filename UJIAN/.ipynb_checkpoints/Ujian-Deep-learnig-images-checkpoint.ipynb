{
 "cells": [
  {
   "cell_type": "markdown",
   "metadata": {},
   "source": [
    "# Selamat datang dalam Ujian Deep Learning Image\n",
    "\n",
    "Tugas kalian adalah untuk melakukan analisis dasar untuk membangun Deep Learning di Image Proccessing. Adapun  data set yang digunakan adalah Fashion MNIST. \n",
    "\n",
    "\n",
    "Aturan ujian:\n",
    "1. **Boleh melihat catatan dan internet**\n",
    "2. **Penamaan file:**:\n",
    "     \n",
    "     - Nama File dirubah menjadi #Nama#Waktu#-Ujian-Deep-Learning.ipynb menjadi:\n",
    "         - Andreas-24Feb2019-Deep-Learning.ipynp\n",
    "         \n",
    "3. Ujian Dilakukan pada hari ini dan diselesaikan dalam waktu 1.5 jam\n",
    "\n",
    "Adapun komponen penilaian pada ujian ini adalah:\n",
    "\n",
    "\n",
    "1. **Data pre-processing**  \n",
    "     1.1. Memuat Data  \n",
    "     1.2. Memeriksa Bentuk dan Tipe Data  \n",
    "     1.3. Ekstraksi x_train dan y_train  \n",
    "     1.4. Visualisasi  \n",
    "     1.5. Normalisasi  \n",
    "     1.6. Menyesuaikan Shape dari Dataset  \n",
    "     1.7. One-Hot Encoding  \n",
    "     1.8. Memisahkan Data Training dan Data Validation      \n",
    "      \n",
    "2. **Convolutional Neural Network**  \n",
    "    \n",
    "\n",
    "3. **Analisis Hasil**  .Melakukan Visualisasi / Plotting Loss dan Accuracy  \n",
    "    "
   ]
  },
  {
   "cell_type": "markdown",
   "metadata": {},
   "source": [
    "<hr>\n",
    "\n",
    "# 1. Data Preprocessing\n",
    "\n",
    "-- silahkan tuliskan analisa kalian"
   ]
  },
  {
   "cell_type": "code",
   "execution_count": 1,
   "metadata": {
    "collapsed": true
   },
   "outputs": [],
   "source": [
    "##kode kalian"
   ]
  },
  {
   "cell_type": "markdown",
   "metadata": {},
   "source": [
    "## 1.1 Memuat Data\n",
    "-- silahkan tuliskan analisa kalian"
   ]
  },
  {
   "cell_type": "code",
   "execution_count": 2,
   "metadata": {
    "collapsed": true
   },
   "outputs": [],
   "source": [
    "## kode kalian"
   ]
  },
  {
   "cell_type": "markdown",
   "metadata": {},
   "source": [
    "## 1.2 Memeriksa Bentuk dan Tipe Data\n",
    "-- silahkan tuliskan analisa kalian"
   ]
  },
  {
   "cell_type": "markdown",
   "metadata": {},
   "source": [
    "### Memeriksa Tipe Data"
   ]
  },
  {
   "cell_type": "code",
   "execution_count": 3,
   "metadata": {
    "collapsed": false
   },
   "outputs": [],
   "source": [
    "# memeriksa tipe data\n"
   ]
  },
  {
   "cell_type": "markdown",
   "metadata": {},
   "source": [
    "### Memeriksa Bentuk Data"
   ]
  },
  {
   "cell_type": "code",
   "execution_count": 4,
   "metadata": {
    "collapsed": false
   },
   "outputs": [],
   "source": [
    "# memeriksa bentuk data\n"
   ]
  },
  {
   "cell_type": "markdown",
   "metadata": {},
   "source": [
    "### Memeriksa Isi Data"
   ]
  },
  {
   "cell_type": "code",
   "execution_count": 5,
   "metadata": {
    "collapsed": false
   },
   "outputs": [],
   "source": [
    "# kode kalian"
   ]
  },
  {
   "cell_type": "markdown",
   "metadata": {},
   "source": [
    "## 1.3 Ekstraksi x_train dan y_train\n",
    "-- silahkan tuliskan analisa kalian"
   ]
  },
  {
   "cell_type": "code",
   "execution_count": 6,
   "metadata": {},
   "outputs": [],
   "source": [
    "## kode kalian"
   ]
  },
  {
   "cell_type": "markdown",
   "metadata": {},
   "source": [
    "## 1.4 Visualisasi\n",
    "-- silahkan tuliskan analisa kalian."
   ]
  },
  {
   "cell_type": "markdown",
   "metadata": {},
   "source": [
    "### Visualisasi Satu Gambar"
   ]
  },
  {
   "cell_type": "code",
   "execution_count": 7,
   "metadata": {
    "collapsed": false
   },
   "outputs": [],
   "source": [
    "#kode kalian"
   ]
  },
  {
   "cell_type": "markdown",
   "metadata": {},
   "source": [
    "## 1.5 Normalisasi\n",
    "-- silahkan tuliskan analisa kalian"
   ]
  },
  {
   "cell_type": "code",
   "execution_count": 8,
   "metadata": {
    "collapsed": false
   },
   "outputs": [],
   "source": [
    "# kode kalian"
   ]
  },
  {
   "cell_type": "markdown",
   "metadata": {},
   "source": [
    "## 1.6 Menyesuaikan Shape dari Dataset\n",
    "-- silahkan tuliskan analisa kalian"
   ]
  },
  {
   "cell_type": "code",
   "execution_count": 9,
   "metadata": {
    "collapsed": false
   },
   "outputs": [],
   "source": [
    "## kode kalian"
   ]
  },
  {
   "cell_type": "markdown",
   "metadata": {},
   "source": [
    "## 1.7 One-Hot Encoding\n",
    "-- silahkan tuliskan analisa kalian"
   ]
  },
  {
   "cell_type": "code",
   "execution_count": 10,
   "metadata": {},
   "outputs": [],
   "source": [
    "## kode kalian"
   ]
  },
  {
   "cell_type": "markdown",
   "metadata": {},
   "source": [
    "## 1.8 Memisahkan Data Training dan Data Validation\n",
    "-- silahkan tuliskan analisa kalian"
   ]
  },
  {
   "cell_type": "code",
   "execution_count": 11,
   "metadata": {},
   "outputs": [],
   "source": [
    "## kode kalian"
   ]
  },
  {
   "cell_type": "markdown",
   "metadata": {},
   "source": [
    "<hr>\n",
    "\n",
    "# 2. Convolutional Neural Network\n",
    "\n",
    "Pada bagian ini Convolutional Neural Network akan dibangun; termasuk membangun arsitekturnya, menentukan optimizer, pengukuran kinerja, learning rate, dll."
   ]
  },
  {
   "cell_type": "code",
   "execution_count": 12,
   "metadata": {
    "collapsed": true
   },
   "outputs": [],
   "source": [
    "## kode kalian"
   ]
  },
  {
   "cell_type": "markdown",
   "metadata": {},
   "source": [
    "<hr>\n",
    "\n",
    "# 3. Analisis Hasil\n",
    "##  Melakukan Visualisasi / Plotting Loss dan Accuracy\n",
    "\n",
    "-- silahkan tuliskan analisa kalian"
   ]
  },
  {
   "cell_type": "markdown",
   "metadata": {},
   "source": [
    "# Kesan dan Pesan untuk Kursus ini"
   ]
  },
  {
   "cell_type": "markdown",
   "metadata": {},
   "source": [
    "silahkan tuliskan kesan dan pesan kalian"
   ]
  },
  {
   "cell_type": "code",
   "execution_count": null,
   "metadata": {},
   "outputs": [],
   "source": []
  }
 ],
 "metadata": {
  "anaconda-cloud": {},
  "kernelspec": {
   "display_name": "Python 3",
   "language": "python",
   "name": "python3"
  },
  "language_info": {
   "codemirror_mode": {
    "name": "ipython",
    "version": 3
   },
   "file_extension": ".py",
   "mimetype": "text/x-python",
   "name": "python",
   "nbconvert_exporter": "python",
   "pygments_lexer": "ipython3",
   "version": "3.6.5"
  }
 },
 "nbformat": 4,
 "nbformat_minor": 2
}
