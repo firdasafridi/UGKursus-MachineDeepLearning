{
 "cells": [
  {
   "cell_type": "markdown",
   "metadata": {},
   "source": [
    "# Selamat datang dalam Ujian NLP\n",
    "\n",
    "Tugas kalian adalah untuk melakukan analisis dasar untuk membangun NLP. Adapun data yang digunakan pada ujian ini adalah:\n",
    "- https://edition.cnn.com/2019/02/23/americas/venezuela-brazil-violence-intl/index.html\n",
    "- https://finance.detik.com/infrastruktur/d-4440926/penjelasan-lengkap-itdc-soal-biaya-bangun-sirkuit-motogp-mandalika\n",
    "\n",
    "Aturan ujian:\n",
    "1. **Boleh melihat catatan dan internet**\n",
    "2. **Penamaan file:**:\n",
    "     \n",
    "     - Nama File dirubah menjadi #Nama#Waktu#-Ujian-NLP.ipynb menjadi:\n",
    "         - Andreas-24Feb2019-Ujian-NLP.ipynp\n",
    "         \n",
    "3. Ujian Dilakukan pada hari ini dan diselesaikan dalam waktu 1.5 jam\n",
    "         \n",
    "Tahapan penilaian dari ujian ini adalah:\n",
    "\n",
    "1. **Crawling Data**\n",
    "2. **Tokenization**\n",
    "3. **Analisis Frequensi Distribusi**\n",
    "4. **Analisis dengan Menggunakan WordCloud Sebelum Stopword**\n",
    "5. **Implementasi Stopword removal**\n",
    "6. **Analisis dengan menggunakan Word Cloud**\n",
    "\n",
    "Setiap tahapan diharapkan peserta dapat menulis komentar dan analisisnya"
   ]
  },
  {
   "cell_type": "markdown",
   "metadata": {},
   "source": [
    "# Ujian 1\n",
    "Ujian ini menggunakan data dalam bentuk bahasa inggris, yaitu menggunakan data:\n",
    "\n",
    "https://edition.cnn.com/2019/02/23/americas/venezuela-brazil-violence-intl/index.html"
   ]
  },
  {
   "cell_type": "markdown",
   "metadata": {},
   "source": [
    "### 1. Crawling\n",
    "-- tuliskan penjelasan kalian"
   ]
  },
  {
   "cell_type": "code",
   "execution_count": 1,
   "metadata": {},
   "outputs": [],
   "source": [
    "## kode untuk crawling"
   ]
  },
  {
   "cell_type": "markdown",
   "metadata": {},
   "source": [
    "### 2. Tokenization\n",
    "-- tuliskan penjelasan kalian"
   ]
  },
  {
   "cell_type": "code",
   "execution_count": 2,
   "metadata": {},
   "outputs": [],
   "source": [
    "## kode untuk tokenization"
   ]
  },
  {
   "cell_type": "markdown",
   "metadata": {},
   "source": [
    "### 3. Analisis Frequensi Distribusi\n",
    "-- tuliskan penjelasan kalian"
   ]
  },
  {
   "cell_type": "code",
   "execution_count": 3,
   "metadata": {},
   "outputs": [],
   "source": [
    "## kode juntuk frequensi distribusi"
   ]
  },
  {
   "cell_type": "markdown",
   "metadata": {},
   "source": [
    "### 4. Analisis Word Cloud sebelum stopword removal\n",
    "-- tuliskan penjelasan kalian"
   ]
  },
  {
   "cell_type": "code",
   "execution_count": 4,
   "metadata": {},
   "outputs": [],
   "source": [
    "## kode untuk analisis word cloud sblm stopword removal\n"
   ]
  },
  {
   "cell_type": "markdown",
   "metadata": {},
   "source": [
    "### 5. Implementasi Stopword removal\n",
    "--tuliskan penjelasan kalian"
   ]
  },
  {
   "cell_type": "code",
   "execution_count": 5,
   "metadata": {},
   "outputs": [],
   "source": [
    "## kode"
   ]
  },
  {
   "cell_type": "markdown",
   "metadata": {},
   "source": [
    "### 6. Analisis Word Cloud setelah stopword removal"
   ]
  },
  {
   "cell_type": "code",
   "execution_count": 6,
   "metadata": {},
   "outputs": [],
   "source": [
    "## kode untuk analisis word cloud setelah stop word"
   ]
  },
  {
   "cell_type": "markdown",
   "metadata": {},
   "source": [
    "# Ujian 2\n",
    "Ujian ini menggunakan data dalam bentuk Bahasa Indonesia, yaitu menggunakan data:\n",
    "\n",
    "https://finance.detik.com/infrastruktur/d-4440926/penjelasan-lengkap-itdc-soal-biaya-bangun-sirkuit-motogp-mandalika"
   ]
  },
  {
   "cell_type": "markdown",
   "metadata": {},
   "source": [
    "### 1. Crawling\n",
    "-- tuliskan penjelasan kalian"
   ]
  },
  {
   "cell_type": "code",
   "execution_count": 7,
   "metadata": {},
   "outputs": [],
   "source": [
    "## kode untuk crawling"
   ]
  },
  {
   "cell_type": "markdown",
   "metadata": {},
   "source": [
    "### 2. Tokenization\n",
    "-- tuliskan penjelasan kalian"
   ]
  },
  {
   "cell_type": "code",
   "execution_count": 8,
   "metadata": {},
   "outputs": [],
   "source": [
    "## kode untuk tokenization"
   ]
  },
  {
   "cell_type": "markdown",
   "metadata": {},
   "source": [
    "### 3. Analisis Frequensi Distribusi\n",
    "-- tuliskan penjelasan kalian"
   ]
  },
  {
   "cell_type": "code",
   "execution_count": 9,
   "metadata": {},
   "outputs": [],
   "source": [
    "## kode juntuk frequensi distribusi"
   ]
  },
  {
   "cell_type": "markdown",
   "metadata": {},
   "source": [
    "### 4. Analisis Word Cloud sebelum stopword removal\n",
    "-- tuliskan penjelasan kalian"
   ]
  },
  {
   "cell_type": "code",
   "execution_count": 10,
   "metadata": {},
   "outputs": [],
   "source": [
    "## kode untuk analisis word cloud sblm stopword removal\n"
   ]
  },
  {
   "cell_type": "markdown",
   "metadata": {},
   "source": [
    "### 5. Implementasi Stopword removal\n",
    "--tuliskan penjelasan kalian"
   ]
  },
  {
   "cell_type": "code",
   "execution_count": 11,
   "metadata": {},
   "outputs": [],
   "source": [
    "## kode"
   ]
  },
  {
   "cell_type": "markdown",
   "metadata": {},
   "source": [
    "### 6. Analisis Word Cloud setelah stopword removal"
   ]
  },
  {
   "cell_type": "code",
   "execution_count": 12,
   "metadata": {},
   "outputs": [],
   "source": [
    "## kode untuk analisis word cloud setelah stop word"
   ]
  },
  {
   "cell_type": "code",
   "execution_count": null,
   "metadata": {},
   "outputs": [],
   "source": []
  },
  {
   "cell_type": "markdown",
   "metadata": {},
   "source": [
    "# Saran terkait kursus ini:\n"
   ]
  },
  {
   "cell_type": "markdown",
   "metadata": {},
   "source": [
    "-- silahkan dituliskan sarannya"
   ]
  },
  {
   "cell_type": "markdown",
   "metadata": {},
   "source": [
    "Terimakasih semuanya. Tetap semangat untuk menimba ilmu.\n",
    "TTd\n",
    "Dr. Andreas Hadiyono, ST, MMSI"
   ]
  },
  {
   "cell_type": "code",
   "execution_count": null,
   "metadata": {},
   "outputs": [],
   "source": []
  },
  {
   "cell_type": "code",
   "execution_count": null,
   "metadata": {},
   "outputs": [],
   "source": []
  },
  {
   "cell_type": "code",
   "execution_count": null,
   "metadata": {},
   "outputs": [],
   "source": []
  }
 ],
 "metadata": {
  "kernelspec": {
   "display_name": "Python 3",
   "language": "python",
   "name": "python3"
  },
  "language_info": {
   "codemirror_mode": {
    "name": "ipython",
    "version": 3
   },
   "file_extension": ".py",
   "mimetype": "text/x-python",
   "name": "python",
   "nbconvert_exporter": "python",
   "pygments_lexer": "ipython3",
   "version": "3.6.5"
  }
 },
 "nbformat": 4,
 "nbformat_minor": 2
}
